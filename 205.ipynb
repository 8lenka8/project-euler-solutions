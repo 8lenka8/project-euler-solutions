{
 "cells": [
  {
   "cell_type": "markdown",
   "metadata": {
    "collapsed": true
   },
   "source": [
    "# Problem 205\n",
    "\n",
    "Peter has nine four-sided (pyramidal) dice, each with faces numbered 1, 2, 3, 4.\n",
    "\n",
    "Colin has six six-sided (cubic) dice, each with faces numbered 1, 2, 3, 4, 5, 6.\n",
    "\n",
    "Peter and Colin roll their dice and compare totals: the highest total wins. The result is a draw if the totals are equal.\n",
    "\n",
    "What is the probability that Pyramidal Pete beats Cubic Colin? Give your answer rounded to seven decimal places in the form 0.abcdefg"
   ]
  },
  {
   "cell_type": "code",
   "execution_count": 2,
   "metadata": {
    "collapsed": true
   },
   "outputs": [],
   "source": [
    "# Plan is to find the probability of each possible score for each player, then calculate the expectation\n",
    "# For Peter, the probability of each die is 1/4, with 4**9 combinations. "
   ]
  },
  {
   "cell_type": "code",
   "execution_count": 1,
   "metadata": {
    "collapsed": true
   },
   "outputs": [],
   "source": [
    "from itertools import product"
   ]
  },
  {
   "cell_type": "code",
   "execution_count": 2,
   "metadata": {
    "collapsed": true
   },
   "outputs": [],
   "source": [
    "# Find all combination of the sum of 9 four-sided dice and how often each can occur\n",
    "sum_pete = {}\n",
    "repeat = 9\n",
    "for p in product([1,2,3,4], repeat=repeat):\n",
    "    s = sum(p)\n",
    "    if s in sum_pete:\n",
    "        sum_pete[s] += 1\n",
    "    else:\n",
    "        sum_pete[s] = 1\n",
    "# Leave them as counts, rather than probabilities, for the moment as it could leave to some numeric errors and easier\n",
    "# to look at counts rather than decimals"
   ]
  },
  {
   "cell_type": "code",
   "execution_count": 5,
   "metadata": {
    "collapsed": true
   },
   "outputs": [],
   "source": [
    "# Find all combination of the sum of 6 six-sided dice and how often each can occur\n",
    "sum_colin = {}\n",
    "repeat = 6\n",
    "for p in product([1,2,3,4,5,6], repeat=repeat):\n",
    "    s = sum(p)\n",
    "    if s in sum_colin:\n",
    "        sum_colin[s] += 1\n",
    "    else:\n",
    "        sum_colin[s] = 1"
   ]
  },
  {
   "cell_type": "code",
   "execution_count": 8,
   "metadata": {},
   "outputs": [
    {
     "data": {
      "text/plain": [
       "0.5731440767829801"
      ]
     },
     "execution_count": 8,
     "metadata": {},
     "output_type": "execute_result"
    }
   ],
   "source": [
    "# Loop over the values and find where the no. of ways Pete can win is greater than the no. of ways that Colin can win\n",
    "count_pete_win = 0\n",
    "for key_pete, vals_pete in sum_pete.items():\n",
    "    count = 0\n",
    "    for key_colin, vals_colin in sum_colin.items():\n",
    "        if key_pete P key_colin:\n",
    "            count += sum_colin[key_colin]\n",
    "    count_pete_win += sum_pete[key_pete] * count\n",
    "# The divisor (6**6) * (4**9) would normally have been part of the above sum, but do it in one go at the end.\n",
    "prob_pete_win = count_pete_win/((6**6) * (4**9))\n",
    "prob_pete_win"
   ]
  },
  {
   "cell_type": "code",
   "execution_count": null,
   "metadata": {
    "collapsed": true
   },
   "outputs": [],
   "source": []
  }
 ],
 "metadata": {
  "kernelspec": {
   "display_name": "Python 3",
   "language": "python",
   "name": "python3"
  },
  "language_info": {
   "codemirror_mode": {
    "name": "ipython",
    "version": 3
   },
   "file_extension": ".py",
   "mimetype": "text/x-python",
   "name": "python",
   "nbconvert_exporter": "python",
   "pygments_lexer": "ipython3",
   "version": "3.6.2"
  }
 },
 "nbformat": 4,
 "nbformat_minor": 2
}
