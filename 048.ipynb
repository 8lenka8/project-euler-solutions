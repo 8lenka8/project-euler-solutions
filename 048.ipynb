{
 "cells": [
  {
   "cell_type": "markdown",
   "metadata": {},
   "source": [
    "## Self powers\n",
    "\n",
    "The series, 1^1 + 2^2 + 3^3 + ... + 10^10 = 10405071317.\n",
    "\n",
    "Find the last ten digits of the series, 1^1 + 2^2 + 3^3 + ... + 1000^1000."
   ]
  },
  {
   "cell_type": "markdown",
   "metadata": {},
   "source": [
    "It is possible to solve this using a brute force method, however I would imagine that when it first appeared (in 2004) this was not really possible, so we shall try to use a bit more of a smarter technique.\n",
    "\n",
    "Using the formula x^b mod(n) = (x^b_0 (mod n) * x^b_1 (mod n) ... * x^b_m (mod n)) (mod n) where b_0 + b_1 + ... + b_m = b, as the basis for this code.\n",
    "\n",
    "Want to break down each exponent as the sum of 2 raised to an exponent, e.g. 25 = 2^4 + 2^3 + 2^0"
   ]
  },
  {
   "cell_type": "code",
   "execution_count": 1,
   "metadata": {
    "collapsed": true
   },
   "outputs": [],
   "source": [
    "import numpy as np\n",
    "import pandas as pd\n",
    "import operator\n",
    "#from operator import mul\n",
    "import functools\n",
    "import time"
   ]
  },
  {
   "cell_type": "code",
   "execution_count": 2,
   "metadata": {
    "collapsed": true
   },
   "outputs": [],
   "source": [
    "n = 10000000000"
   ]
  },
  {
   "cell_type": "code",
   "execution_count": 3,
   "metadata": {
    "collapsed": true
   },
   "outputs": [],
   "source": [
    "def powers_of_two(n):\n",
    "    b = bin(n)[2:]\n",
    "    l = len(b)\n",
    "    pot = []\n",
    "    for i in range(l):\n",
    "        if b[i] == '1':\n",
    "            pot.append(2**(l-1-i))\n",
    "    return pot"
   ]
  },
  {
   "cell_type": "code",
   "execution_count": 4,
   "metadata": {},
   "outputs": [
    {
     "name": "stdout",
     "output_type": "stream",
     "text": [
      "0.03167915344238281\n",
      "9110846700\n"
     ]
    }
   ],
   "source": [
    "start_time = time.time()\n",
    "result = 0\n",
    "for i in range(1, 1000): # Not going to worry about 1000 as 1000^1000 will all be zeroes\n",
    "    pot = powers_of_two(i)\n",
    "    result += functools.reduce(operator.mul, [(i**p) % n for p in pot]) % n\n",
    "print(time.time() - start_time)\n",
    "print(str(result)[-10:])"
   ]
  },
  {
   "cell_type": "code",
   "execution_count": 5,
   "metadata": {},
   "outputs": [
    {
     "name": "stdout",
     "output_type": "stream",
     "text": [
      "0.017904043197631836\n",
      "9110846700\n"
     ]
    }
   ],
   "source": [
    "# Now let's see what the brute force method gives us and the time taken\n",
    "start_time = time.time()\n",
    "result = 0\n",
    "for i in range(1, 1000):\n",
    "    result += i ** i\n",
    "print(time.time() - start_time)\n",
    "print(str(result)[-10:])\n",
    "# Can see that it is slightly quicker too. Would think that the previous method would be more practical if we had a \n",
    "# value much higher than 1000 "
   ]
  },
  {
   "cell_type": "code",
   "execution_count": 6,
   "metadata": {},
   "outputs": [
    {
     "name": "stdout",
     "output_type": "stream",
     "text": [
      "0.09000015258789062\n",
      "9110846700\n"
     ]
    }
   ],
   "source": [
    "# A slight alternative is to take the last ten digits of every element\n",
    "start_time = time.time()\n",
    "result = 0\n",
    "for i in range(1, 1000):\n",
    "    result += int(str(i ** i)[-10:])\n",
    "print(time.time() - start_time)\n",
    "print(str(result)[-10:])\n",
    "# Same result but the slowest method"
   ]
  },
  {
   "cell_type": "code",
   "execution_count": null,
   "metadata": {
    "collapsed": true
   },
   "outputs": [],
   "source": []
  }
 ],
 "metadata": {
  "anaconda-cloud": {},
  "kernelspec": {
   "display_name": "Python 3",
   "language": "python",
   "name": "python3"
  },
  "language_info": {
   "codemirror_mode": {
    "name": "ipython",
    "version": 3
   },
   "file_extension": ".py",
   "mimetype": "text/x-python",
   "name": "python",
   "nbconvert_exporter": "python",
   "pygments_lexer": "ipython3",
   "version": "3.6.2"
  }
 },
 "nbformat": 4,
 "nbformat_minor": 2
}
