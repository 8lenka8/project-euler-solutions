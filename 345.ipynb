{
 "cells": [
  {
   "cell_type": "markdown",
   "metadata": {},
   "source": [
    "## Problem 345\n",
    "\n",
    "Maximum matrix sum"
   ]
  },
  {
   "cell_type": "markdown",
   "metadata": {},
   "source": [
    "This might be a long way round but the plan is to split the matrix into blocks of 5 rows. Within each 5 row block we will find the maximum sum with each possible combination of 5 columns.\n",
    "\n",
    "Once we know the maximum sum for each 5-row block we can loop over each 5-row block in the first section, then we find potential 5-row blocks in the second section and third section (note, that once we find a potential block in the second section, there will only be potential value in the third section)."
   ]
  },
  {
   "cell_type": "code",
   "execution_count": 1,
   "metadata": {
    "collapsed": true
   },
   "outputs": [],
   "source": [
    "import numpy as np\n",
    "import pandas as pd\n",
    "import itertools"
   ]
  },
  {
   "cell_type": "code",
   "execution_count": 2,
   "metadata": {
    "collapsed": true
   },
   "outputs": [],
   "source": [
    "m = pd.DataFrame(\n",
    "    [\n",
    "    [  7,  53, 183, 439, 863, 497, 383, 563,  79, 973, 287,  63, 343, 169, 583],\n",
    "    [627, 343, 773, 959, 943, 767, 473, 103, 699, 303, 957, 703, 583, 639, 913],\n",
    "    [447, 283, 463,  29,  23, 487, 463, 993, 119, 883, 327, 493, 423, 159, 743],\n",
    "    [217, 623,   3, 399, 853, 407, 103, 983,  89, 463, 290, 516, 212, 462, 350],\n",
    "    [960, 376, 682, 962, 300, 780, 486, 502, 912, 800, 250, 346, 172, 812, 350],\n",
    "    [870, 456, 192, 162, 593, 473, 915,  45, 989, 873, 823, 965, 425, 329, 803],\n",
    "    [973, 965, 905, 919, 133, 673, 665, 235, 509, 613, 673, 815, 165, 992, 326],\n",
    "    [322, 148, 972, 962, 286, 255, 941, 541, 265, 323, 925, 281, 601,  95, 973],\n",
    "    [445, 721,  11, 525, 473,  65, 511, 164, 138, 672,  18, 428, 154, 448, 848],\n",
    "    [414, 456, 310, 312, 798, 104, 566, 520, 302, 248, 694, 976, 430, 392, 198],\n",
    "    [184, 829, 373, 181, 631, 101, 969, 613, 840, 740, 778, 458, 284, 760, 390],\n",
    "    [821, 461, 843, 513,  17, 901, 711, 993, 293, 157, 274,  94, 192, 156, 574],\n",
    "    [ 34, 124,   4, 878, 450, 476, 712, 914, 838, 669, 875, 299, 823, 329, 699],\n",
    "    [815, 559, 813, 459, 522, 788, 168, 586, 966, 232, 308, 833, 251, 631, 107],\n",
    "    [813, 883, 451, 509, 615,  77, 281, 613, 459, 205, 380, 274, 302,  35, 805]\n",
    "    ])"
   ]
  },
  {
   "cell_type": "code",
   "execution_count": 3,
   "metadata": {
    "collapsed": true
   },
   "outputs": [],
   "source": [
    "s = {}\n",
    "s[0], s[1], s[2] = {}, {}, {}"
   ]
  },
  {
   "cell_type": "code",
   "execution_count": 4,
   "metadata": {
    "collapsed": true
   },
   "outputs": [],
   "source": [
    "l = list(itertools.combinations(range(15),5))\n",
    "p = list(itertools.permutations([0,1,2,3,4]))"
   ]
  },
  {
   "cell_type": "code",
   "execution_count": 5,
   "metadata": {},
   "outputs": [
    {
     "name": "stdout",
     "output_type": "stream",
     "text": [
      "156.48823881149292\n"
     ]
    }
   ],
   "source": [
    "import time\n",
    "start_time = time.time()\n",
    "for j in [0,1,2]:\n",
    "    for l1 in l:\n",
    "        s[j][l1] = 0\n",
    "        for p1 in p:\n",
    "            init_s = np.sum([m.iloc[i + j*5, l1[p1[i]]] for i in range(5)])\n",
    "            if init_s > s[j][l1]:\n",
    "                s[j][l1] = init_s\n",
    "print(time.time() - start_time)"
   ]
  },
  {
   "cell_type": "code",
   "execution_count": 6,
   "metadata": {},
   "outputs": [
    {
     "name": "stdout",
     "output_type": "stream",
     "text": [
      "15.3678719997406\n",
      "13938\n"
     ]
    }
   ],
   "source": [
    "start_time = time.time()\n",
    "max_value = 0\n",
    "t = 0 \n",
    "all_index = set([i for i in range(15)])\n",
    "for k0 in s[0].keys():\n",
    "    for k1 in s[1].keys():\n",
    "        if not any(x in k0 for x in k1):\n",
    "            k2 = tuple(all_index.difference(set(k0), set(k1)))\n",
    "            value = s[0][k0] + s[1][k1] + s[2][k2]\n",
    "            if value > max_value:\n",
    "                max_value = value\n",
    "print(time.time() - start_time)\n",
    "print(max_value)"
   ]
  },
  {
   "cell_type": "code",
   "execution_count": null,
   "metadata": {
    "collapsed": true
   },
   "outputs": [],
   "source": []
  }
 ],
 "metadata": {
  "anaconda-cloud": {},
  "kernelspec": {
   "display_name": "Python 3",
   "language": "python",
   "name": "python3"
  },
  "language_info": {
   "codemirror_mode": {
    "name": "ipython",
    "version": 3
   },
   "file_extension": ".py",
   "mimetype": "text/x-python",
   "name": "python",
   "nbconvert_exporter": "python",
   "pygments_lexer": "ipython3",
   "version": "3.6.2"
  }
 },
 "nbformat": 4,
 "nbformat_minor": 2
}
