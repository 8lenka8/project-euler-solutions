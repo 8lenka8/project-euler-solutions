{
 "cells": [
  {
   "cell_type": "markdown",
   "metadata": {},
   "source": [
    "## Concave triangle\n",
    "\n",
    "The area of the concave triangle will be equal to the area of a concave polygon (two triangles) minus a sector of a circle. \n",
    "\n",
    "Let the radius of the circle be equal to one, as it should simplify things and won't really make much difference to the calcualtions. Also let theta be the angle made between the bottom of the rectangle and the diagonal.\n",
    "\n",
    "Area of sector = theta / 2*pi (as the radius is equal to one).\n",
    "\n",
    "Area of L-section = (2 x 2 - pi x 1 x 1) / 4 = 1 - pi/4"
   ]
  },
  {
   "cell_type": "code",
   "execution_count": 2,
   "metadata": {
    "collapsed": true
   },
   "outputs": [],
   "source": [
    "import numpy as np\n",
    "import matplotlib.pyplot as plt\n",
    "from scipy.optimize import fsolve\n",
    "import math"
   ]
  },
  {
   "cell_type": "markdown",
   "metadata": {},
   "source": [
    "Need to find the length of the line from the bottom corner to the circle. Note that there is a triangle formed by joining the bottom corner to the centre of the circle. This line will be of length \\sqrt(2)*r.\n",
    "\n",
    "Use the cosine rule, however we don't have the 'opposite' angle, so need to do some manipulation, as follows:\n",
    "\n",
    "r^2 = 2*r^2 + d^2 - 2*d*r*\\sqrt(2)*cos(45 - theta) # theta will be known and calculated.\n",
    "\n",
    "If r = 1 then\n",
    "\n",
    "1 = 2 + d^2 - 2*d*\\sqrt(2)*(cos(45)cos(theta) + sin(45)sin(theta))\n",
    "\n",
    "-1 = d^2 - 2*d*(cos(theta) + sin(theta))\n",
    "\n",
    "So\n",
    "\n",
    "d^2 - 2*d*(cos(theta) + sin(theta)) + 1 + 0\n",
    "\n",
    "As theta will be known we can use b^2 - 4ac as follows:\n",
    "\n",
    "2*(cos(theta) + sin(theta)) \\pm sqrt(4*(cos(theta) + sin(theta))^2 - 4) / 2\n",
    "\n",
    "2*(cos(theta) + sin(theta)) \\pm 2*sqrt(2*cos(theta).sin(theta)) / 2\n",
    "\n",
    "(cos(theta) + sin(theta)) - sqrt(2*cos(theta).sin(theta)) # as adding will be greater than sqrt(2)"
   ]
  },
  {
   "cell_type": "code",
   "execution_count": 43,
   "metadata": {},
   "outputs": [
    {
     "data": {
      "text/plain": [
       "0.21460183660255172"
      ]
     },
     "execution_count": 43,
     "metadata": {},
     "output_type": "execute_result"
    }
   ],
   "source": [
    "# Area of L-section\n",
    "area_l_section = (4 - math.pi)/4\n",
    "area_l_section"
   ]
  },
  {
   "cell_type": "code",
   "execution_count": 86,
   "metadata": {},
   "outputs": [
    {
     "name": "stdout",
     "output_type": "stream",
     "text": [
      "2240\n"
     ]
    }
   ],
   "source": [
    "# Radius of circle\n",
    "r = 1\n",
    "# Number of circles\n",
    "for n in range(2, 10000):\n",
    "# Angle diagonal makes\n",
    "    theta1 = math.atan(1/n)\n",
    "    # Length of diagonal until it reaches circle\n",
    "    d1 = (math.cos(theta1) + math.sin(theta1)) - math.sqrt(2*math.cos(theta1)*math.sin(theta1))\n",
    "    # Area of triangle from bottom diagonal to circle, to circle centre back to diagonal\n",
    "    p = (r+(r*math.sqrt(2))+d1)/2 # Heron formula\n",
    "    area_top_triangle = math.sqrt(p*(p-r)*(p-(r*math.sqrt(2)))*(p-d1))\n",
    "    # Area of concave polygon\n",
    "    area_polygon = (r*r/2) - area_top_triangle\n",
    "    # Area of concave triangle\n",
    "    # Length to bottom of circle\n",
    "    d2 = math.sqrt(d1*d1 + r*r - 2*d1*r*math.cos(theta1))\n",
    "    # Angle of sector\n",
    "    theta2 = math.acos((d2*d2-r*r-r*r)/(-2*r*r))\n",
    "    area_sector = theta2/(2*math.pi)*math.pi*r*r\n",
    "    area_concave_triangle = area_polygon - area_sector\n",
    "    if (area_concave_triangle / area_l_section) < 0.001:\n",
    "        print(n)\n",
    "        break"
   ]
  }
 ],
 "metadata": {
  "kernelspec": {
   "display_name": "Python 3",
   "language": "python",
   "name": "python3"
  },
  "language_info": {
   "codemirror_mode": {
    "name": "ipython",
    "version": 3
   },
   "file_extension": ".py",
   "mimetype": "text/x-python",
   "name": "python",
   "nbconvert_exporter": "python",
   "pygments_lexer": "ipython3",
   "version": "3.6.2"
  }
 },
 "nbformat": 4,
 "nbformat_minor": 2
}
