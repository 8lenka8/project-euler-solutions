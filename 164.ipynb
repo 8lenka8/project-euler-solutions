{
 "cells": [
  {
   "cell_type": "markdown",
   "metadata": {
    "collapsed": true
   },
   "source": [
    "# Problem 164\n",
    "## How many 20 digit numbers n (without any leading zero) exist such that no three consecutive digits of n have a sum greater than 9?"
   ]
  },
  {
   "cell_type": "markdown",
   "metadata": {
    "collapsed": true
   },
   "source": [
    "First thing, how many three digit numbers (with a leading zero) have a sum no greater than 9?\n",
    "\n",
    "Every group of three numbers will have to part of this group\n",
    "\n",
    "Plan is to continually loop over these numbers, but only take into consideration those that have the last two digits matching the first two digits of another number."
   ]
  },
  {
   "cell_type": "code",
   "execution_count": 1,
   "metadata": {
    "collapsed": true
   },
   "outputs": [],
   "source": [
    "from collections import defaultdict\n",
    "import numpy as np"
   ]
  },
  {
   "cell_type": "code",
   "execution_count": 2,
   "metadata": {
    "collapsed": true
   },
   "outputs": [],
   "source": [
    "def sum_digits(n):\n",
    "    s = 0\n",
    "    while n:\n",
    "        s += n % 10\n",
    "        n //= 10\n",
    "    return s"
   ]
  },
  {
   "cell_type": "code",
   "execution_count": 3,
   "metadata": {
    "collapsed": true
   },
   "outputs": [],
   "source": [
    "# Create a list of all 'acceptable' three digit numbers (those that sum to 9 or fewer), including those with leading zeros\n",
    "n = 0\n",
    "acceptable = []\n",
    "for i in range(1000):\n",
    "    if sum_digits(i) <= 9:\n",
    "        if i < 10:\n",
    "            s = \"00\" + str(i)\n",
    "        elif i < 100:\n",
    "            s = \"0\" + str(i)\n",
    "        else:\n",
    "            s = str(i)\n",
    "        acceptable.append(s)\n",
    "        n += 1\n",
    "# Create a dictionary, with the key being each unique occurence of the first two digits in 'acceptable' and the \n",
    "# values being the last two digits in 'acceptable' when the first two are the keys. E.g. the key '09' will only have\n",
    "# the value '90' as the number 090 has a sum of 9.\n",
    "# Hopefully this should speed things up later\n",
    "acc2 = np.asarray([acc[:2] for acc in acceptable])\n",
    "additions = {}\n",
    "for ac in np.unique(acc2):\n",
    "    additions[ac] = []\n",
    "    for acc in acceptable:\n",
    "        if ac == acc[:2]:\n",
    "            additions[ac].append(acc[1:])"
   ]
  },
  {
   "cell_type": "markdown",
   "metadata": {
    "collapsed": true
   },
   "source": [
    "Create the default dictionary, which will have a key, value pair of every element of 'additions' as well as a count of how many numbers end with the key value. E.g. 4: {'00': 45, ... indicates, that for four digit numbers there are 45 numbers that end with '00' and meet the criteria of no three consecutive digits having a sum greater than 9."
   ]
  },
  {
   "cell_type": "code",
   "execution_count": 4,
   "metadata": {},
   "outputs": [
    {
     "name": "stdout",
     "output_type": "stream",
     "text": [
      "0.005132913589477539\n"
     ]
    }
   ],
   "source": [
    "import time\n",
    "start = time.time()\n",
    "poss_numbers = defaultdict(dict)\n",
    "# Initialise the defaultdict, every possible value being set to zero.\n",
    "for i in range(3,21):\n",
    "    for acc in acceptable:\n",
    "        poss_numbers[i][acc[1:]] = 0\n",
    "for i in range(3,21):\n",
    "    if i == 3:\n",
    "        # Set up the initial defaultdict for numbers of length 3\n",
    "        for acc in acceptable:\n",
    "            if acc[0] != '0':\n",
    "                poss_numbers[i][acc[1:]] += 1\n",
    "    else:\n",
    "        for k, v in poss_numbers[i-1].items():\n",
    "            for vals in additions[k]:\n",
    "                poss_numbers[i][vals] += poss_numbers[i-1][k]\n",
    "print(time.time() - start)"
   ]
  },
  {
   "cell_type": "code",
   "execution_count": 6,
   "metadata": {},
   "outputs": [
    {
     "name": "stdout",
     "output_type": "stream",
     "text": [
      "Solution is: 378158756814587\n"
     ]
    }
   ],
   "source": [
    "# Sum all of the values in poss_number to get the solution\n",
    "s = 0\n",
    "for k,v in poss_numbers[max(poss_numbers, key=int)].items():\n",
    "    s += v\n",
    "print(\"Solution is: \" + str(s))"
   ]
  },
  {
   "cell_type": "code",
   "execution_count": null,
   "metadata": {
    "collapsed": true
   },
   "outputs": [],
   "source": []
  }
 ],
 "metadata": {
  "kernelspec": {
   "display_name": "Python 3",
   "language": "python",
   "name": "python3"
  },
  "language_info": {
   "codemirror_mode": {
    "name": "ipython",
    "version": 3
   },
   "file_extension": ".py",
   "mimetype": "text/x-python",
   "name": "python",
   "nbconvert_exporter": "python",
   "pygments_lexer": "ipython3",
   "version": "3.6.2"
  }
 },
 "nbformat": 4,
 "nbformat_minor": 2
}
